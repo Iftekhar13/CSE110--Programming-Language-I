{
  "nbformat": 4,
  "nbformat_minor": 0,
  "metadata": {
    "kernelspec": {
      "display_name": "Python 3",
      "language": "python",
      "name": "python3"
    },
    "language_info": {
      "codemirror_mode": {
        "name": "ipython",
        "version": 3
      },
      "file_extension": ".py",
      "mimetype": "text/x-python",
      "name": "python",
      "nbconvert_exporter": "python",
      "pygments_lexer": "ipython3",
      "version": "3.7.6"
    },
    "colab": {
      "name": "CSE110 Lab Assignment 5.ipynb",
      "provenance": [],
      "collapsed_sections": [],
      "toc_visible": true
    }
  },
  "cells": [
    {
      "cell_type": "markdown",
      "metadata": {
        "id": "U4PRkuyUtDRw"
      },
      "source": [
        "# CSE110 Lab Assignment 5\n",
        "\n",
        "This Assignment is to help you develop your concept of Tuples and Dictionaries in Python.\n",
        "\n",
        "Write your name, student ID and CSE110 theory section number below:\n"
      ]
    },
    {
      "cell_type": "code",
      "metadata": {
        "id": "wl7fu2qrggWI"
      },
      "source": [
        "#STUDENT NAME: Iftekhar Al-Mahmud\n",
        "#STUDENT ID: 20201120\n",
        "#CSE110 THEORY SECTION: 07"
      ],
      "execution_count": null,
      "outputs": []
    },
    {
      "cell_type": "markdown",
      "metadata": {
        "id": "PD425BrvtDRy"
      },
      "source": [
        "## Write the code in Python to do the following tasks:\n",
        "\n",
        "**<font color='red'>[MUST MAINTAIN VARIABLE NAMING CONVENTIONS FOR ALL THE TASKS]</font>**\n",
        "\n",
        "## Part 1: Tuple"
      ]
    },
    {
      "cell_type": "markdown",
      "metadata": {
        "id": "FNOorLYXtDRz"
      },
      "source": [
        "### Task 1\n",
        "\n",
        "Assume, you have been given a tuple.\n",
        "\n",
        "a_tuple = (\"The Institute\",\\\n",
        "        (\"Best Mystery & Thriller\", \"The Silent Patient\", 68821),\\\n",
        "        75717,\\\n",
        "        [1, 2, 3, 400, 5, 6, 7],\\\n",
        "        (\"Best Fiction\", \"The Testaments\", 98291)\\\n",
        ")\n",
        "\n",
        "Write **one line** of Python code to access and print the value 400.\n",
        "\n",
        "===================================================================\n",
        "\n",
        "Output: 400\n",
        "\n",
        "===================================================================\n"
      ]
    },
    {
      "cell_type": "code",
      "metadata": {
        "id": "NDKB1cIMtDR0",
        "colab": {
          "base_uri": "https://localhost:8080/"
        },
        "outputId": "d6c4cde5-99a4-428c-8070-1371247780bd"
      },
      "source": [
        "a_tuple = (\"The Institute\",\n",
        "(\"Best Mystery & Thriller\", \"The Silent Patient\", 68821),\n",
        "75717,\n",
        "[1, 2, 3, 400, 5, 6, 7],\n",
        "(\"Best Fiction\", \"The Testaments\", 98291)\n",
        ")\n",
        "print(a_tuple[-2][3])\n",
        "\n"
      ],
      "execution_count": null,
      "outputs": [
        {
          "output_type": "stream",
          "text": [
            "400\n"
          ],
          "name": "stdout"
        }
      ]
    },
    {
      "cell_type": "markdown",
      "metadata": {
        "id": "BXlIw1svtDR-"
      },
      "source": [
        "### Task 2\n",
        "\n",
        "Assume, you have been given a tuple. Write a Python program that creates a **new tuple** excluding the first and last two elements of the given tuple and prints the new tuple. \n",
        "\n",
        "**Hint:** You may use tuple slicing.\n",
        "\n",
        "===================================================================\n",
        "\n",
        "**Sample Input 1:**\\\n",
        "(10, 20, 24, 25, 26, 35, 70)\n",
        "\n",
        "\n",
        "**Sample Output 1:**\\\n",
        "(24, 25, 26)\n",
        "\n",
        "===================================================================\n",
        "\n",
        "**Sample Input 2:**\\\n",
        "(-10, 20, 30, 40)\n",
        "\n",
        "\n",
        "**Sample Output 2:**\\\n",
        "()\n",
        "\n",
        "===================================================================\n",
        "\n",
        "**Sample Input 3:**\\\n",
        "(-10, 20, 25, 30, 40)\n",
        "\n",
        "\n",
        "**Sample Output 3:**\\\n",
        "(25,)\n",
        "\n",
        "===================================================================\n"
      ]
    },
    {
      "cell_type": "code",
      "metadata": {
        "id": "FTJ-5AmNtDR_",
        "colab": {
          "base_uri": "https://localhost:8080/"
        },
        "outputId": "13c14cf4-9d95-4220-a832-993198f2d52d"
      },
      "source": [
        "given_tuple = (10, 20, 24, 25, 26, 35, 70)\n",
        "list(given_tuple)\n",
        "for char in given_tuple:\n",
        "  if len(given_tuple)>4:\n",
        "    print(given_tuple[2:-2:1])\n",
        "  else:\n",
        "    print('not possible')"
      ],
      "execution_count": 3,
      "outputs": [
        {
          "output_type": "stream",
          "text": [
            "(24, 25, 26)\n",
            "(24, 25, 26)\n",
            "(24, 25, 26)\n",
            "(24, 25, 26)\n",
            "(24, 25, 26)\n",
            "(24, 25, 26)\n",
            "(24, 25, 26)\n"
          ],
          "name": "stdout"
        }
      ]
    },
    {
      "cell_type": "markdown",
      "metadata": {
        "id": "Z3GS2TE6tDSG"
      },
      "source": [
        "### Task 3\n",
        "\n",
        "Assume, you have been given a tuple. \n",
        "\n",
        "\n",
        "book_info = (\\\n",
        "    (\"Best Mystery & Thriller\",\"The Silent Patient\",68,821),\\\n",
        "    (\"Best Horror\",\"The Institute\",75,717),\\\n",
        "    (\"Best History & Biography\",\"The five\",31,783 ),\\\n",
        "    (\"Best Fiction\",\"The Testaments\",98,291)\\\n",
        ")\n",
        "\n",
        "Write a Python program that prints the size of the tuple and all its elements as shown below.\n",
        "\n",
        "===================================================================\n",
        "\n",
        "**Output:**\\\n",
        "Size of the tuple is: 4\\\n",
        "('Best Mystery & Thriller', 'The Silent Patient', 68, 821)\\\n",
        "('Best Horror', 'The Institute', 75, 717)\\\n",
        "('Best History & Biography', 'The five', 31, 783)\\\n",
        "('Best Fiction', 'The Testaments', 98, 291)\n",
        "\n",
        "==================================================================="
      ]
    },
    {
      "cell_type": "code",
      "metadata": {
        "id": "RPFYcAjntDSG",
        "colab": {
          "base_uri": "https://localhost:8080/"
        },
        "outputId": "1188620c-cf2d-4684-edf7-770250e3690d"
      },
      "source": [
        "book_info = (\n",
        "(\"Best Mystery & Thriller\",\"The Silent Patient\",68,821),\n",
        "(\"Best Horror\",\"The Institute\",75,717),\n",
        "(\"Best History & Biography\",\"The five\",31,783 ),\n",
        "(\"Best Fiction\",\"The Testaments\",98,291)\n",
        ")\n",
        "print('size of tuple is:',len(book_info))\n",
        "for char in book_info:\n",
        "  print(char)\n"
      ],
      "execution_count": null,
      "outputs": [
        {
          "output_type": "stream",
          "text": [
            "size of tuple is: 4\n",
            "('Best Mystery & Thriller', 'The Silent Patient', 68, 821)\n",
            "('Best Horror', 'The Institute', 75, 717)\n",
            "('Best History & Biography', 'The five', 31, 783)\n",
            "('Best Fiction', 'The Testaments', 98, 291)\n"
          ],
          "name": "stdout"
        }
      ]
    },
    {
      "cell_type": "markdown",
      "metadata": {
        "id": "glKgAPlGtDSK"
      },
      "source": [
        "### Task 4\n",
        "\n",
        "Assume, you have been given a tuple with details about books that won the Good Reads Choice Awards. \n",
        "\n",
        "book_info = (\\\n",
        "    (\"Best Mystery & Thriller\",\"The Silent Patient\",68821),\\\n",
        "    (\"Best Horror\",\"The Institute\",75717),\\\n",
        "    (\"Best History & Biography\",\"The five\",31783 ),\\\n",
        "    (\"Best Fiction\",\"The Testaments\",98291)\\\n",
        ")\n",
        "\n",
        "Write a Python program that prints the award category, the book name, and its total votes earned as shown below. \n",
        "\n",
        "**<font color='red'>[Must use Tuple unpacking for printing and need to handle the quotation marks as a part of the output]</font>**\n",
        "\n",
        "===================================================================\n",
        "\n",
        "**Output:**\\\n",
        "The Silent Patient won the 'Best Mystery & Thriller' category with 68821 votes\\\n",
        "The Institute won the 'Best Horror' category with 75717 votes\\\n",
        "The five won the 'Best History & Biography' category with 31783 votes\\\n",
        "The Testaments won the 'Best Fiction' category with 98291 votes\n",
        "\n",
        "==================================================================="
      ]
    },
    {
      "cell_type": "code",
      "metadata": {
        "id": "LgTKpSGatDSM",
        "colab": {
          "base_uri": "https://localhost:8080/"
        },
        "outputId": "4221986d-5b50-4eb8-d22b-c18036dc3ca5"
      },
      "source": [
        "book_info = (\n",
        "(\"Best Mystery & Thriller\",\"The Silent Patient\",68821),\n",
        "(\"Best Horror\",\"The Institute\",75717),\n",
        "(\"Best History & Biography\",\"The five\",31783 ),\n",
        "(\"Best Fiction\",\"The Testaments\",98291)\n",
        ")\n",
        "for char in book_info:\n",
        "  book_category,book_name,book_votes=char\n",
        "  print(book_name,\"won the '\" + book_category + \"' category with\",book_votes,'votes')\n"
      ],
      "execution_count": null,
      "outputs": [
        {
          "output_type": "stream",
          "text": [
            "The Silent Patient won the 'Best Mystery & Thriller' category with 68821 votes\n",
            "The Institute won the 'Best Horror' category with 75717 votes\n",
            "The five won the 'Best History & Biography' category with 31783 votes\n",
            "The Testaments won the 'Best Fiction' category with 98291 votes\n"
          ],
          "name": "stdout"
        }
      ]
    },
    {
      "cell_type": "markdown",
      "metadata": {
        "id": "bRe9K_j55zpb"
      },
      "source": [
        "### Task 5\n",
        "Write a python program that takes an input from the user and finds the number of times that the input is present in a given tuple.\n",
        "\n",
        "===================================================================\n",
        "\n",
        "<b>Example 1: </b><br/>\n",
        "\n",
        "Given tuple: (10, 8, 5, 2, 10, 15, 10, 8, 5, 8, 8, 2) <br/>\n",
        "\n",
        "<b>Sample Input 1:</b> \n",
        "\n",
        "8<br/>\n",
        "\n",
        "<b>Sample Output 1: </b> <br/>\n",
        "\n",
        "8 appears 4 times in the tuple<br/>\n",
        "\n",
        "===================================================================\n",
        "\n",
        "<b> Example 2 </b><br/>\n",
        "\n",
        "Given tuple: (10, 8, 5, 2, 10, 15, 10, 8, 5, 8, 8, 2)<br/>\n",
        "\n",
        "<b>Sample Input 2:</b>\n",
        "\n",
        "1<br/>\n",
        "\n",
        "<b>Sample Output 2:</b><br/>\n",
        "\n",
        "1 appears 0 times in the tuple\n",
        "\n",
        "==================================================================="
      ]
    },
    {
      "cell_type": "code",
      "metadata": {
        "id": "mC-B1fpStDST",
        "colab": {
          "base_uri": "https://localhost:8080/"
        },
        "outputId": "72203553-c537-4551-c6ad-fd329f7b2a21"
      },
      "source": [
        "given_tuple= (10, 8, 5, 2, 10, 15, 10, 8, 5, 8, 8, 2)\n",
        "user_input=int(input('please enter a number for checking: '))\n",
        "\n",
        "count=0\n",
        "for x in given_tuple:\n",
        "  if x==user_input:\n",
        "      count=count+1\n",
        "print(user_input,'appears',count,'times in the tuple')\n",
        "  \n",
        "      "
      ],
      "execution_count": null,
      "outputs": [
        {
          "output_type": "stream",
          "text": [
            "please enter a number for checking: 1\n",
            "1 appears 0 times in the tuple\n"
          ],
          "name": "stdout"
        }
      ]
    },
    {
      "cell_type": "markdown",
      "metadata": {
        "id": "QWNi_JWr6AfC"
      },
      "source": [
        "### Task 6\n",
        "Write a Python program to reverse a given tuple. \n",
        "\n",
        " \n",
        "  <font color='red'>[You are not allowed to use tuple slicing]</font>\n",
        "  \n",
        "===================================================================\n",
        "\n",
        "<b>Note: </b>  Unlike lists, tuples are immutable. So, in order to reverse a tuple, we may need to convert it into a list first, then modify the list, and finally convert it back to a tuple. \n",
        "\n",
        "===================================================================\n",
        "\n",
        "<b>Example 1: </b><br/>\n",
        "\n",
        "Given tuple: ('a', 'b', 'c', 'd', 'e', 'f', 'g', 'h') <br/>\n",
        "\n",
        "<b> Output: </b> <br/>\n",
        "\n",
        "('h', 'g', 'f', 'e', 'd', 'c', 'b', 'a')<br/>\n",
        "\n",
        "\n",
        "===================================================================\n",
        "\n",
        "<b> Example 2: </b><br/>\n",
        "\n",
        "Given tuple: (10, 20, 30, 40, 50, 60)<br/>\n",
        "\n",
        "<b> Output: </b><br/>\n",
        "\n",
        "(60, 50, 40, 30, 20, 10)\n",
        "\n",
        "===================================================================\n"
      ]
    },
    {
      "cell_type": "code",
      "metadata": {
        "id": "CJrUcYAN6Bkx",
        "colab": {
          "base_uri": "https://localhost:8080/"
        },
        "outputId": "e8d6e6a7-98d5-477b-bbd5-b2ab9bbfad0e"
      },
      "source": [
        "ans=[]\n",
        "given_tuple = (10, 20, 30, 40, 50, 60)\n",
        "lst = list(given_tuple)\n",
        "print(tuple(lst[::-1]))\n",
        "\n",
        "\n"
      ],
      "execution_count": null,
      "outputs": [
        {
          "output_type": "stream",
          "text": [
            "(60, 50, 40, 30, 20, 10)\n"
          ],
          "name": "stdout"
        }
      ]
    },
    {
      "cell_type": "markdown",
      "metadata": {
        "id": "km0QurTJtDSX"
      },
      "source": [
        "## Part 2: Dictionary"
      ]
    },
    {
      "cell_type": "markdown",
      "metadata": {
        "id": "kvV-HnCntDSc"
      },
      "source": [
        "### Task 7\n",
        "Suppose you are given two dictionaries.\\\n",
        "Now create a new dictionary \"marks\", merging the two dictionaries, **so that the original two dictionaries remain unchanged.**\n",
        "\n",
        "\n",
        "**Note:** You can use dictionary functions.\n",
        "\n",
        "===================================================================\n",
        "\n",
        "**Given:**\n",
        "\n",
        "{'Harry':15, 'Draco':8, 'Nevil':19}\n",
        "\n",
        "{'Ginie':18, 'Luna': 14}\n",
        "\n",
        "**Output:**\n",
        "\n",
        "{'Harry': 15, 'Draco': 8, 'Nevil': 19, 'Ginie': 18, 'Luna': 14}\n",
        "\n",
        "===================================================================\n",
        "\n",
        "**Given:**\n",
        "\n",
        "{'A':90, 'B': 0}\n",
        "\n",
        "{'C':50}\n",
        "\n",
        "**Output:**\n",
        "\n",
        "{'A': 90, 'B': 0, 'C': 50}\n",
        "\n",
        "===================================================================\n"
      ]
    },
    {
      "cell_type": "code",
      "metadata": {
        "id": "BGSyClBPtDSd",
        "colab": {
          "base_uri": "https://localhost:8080/"
        },
        "outputId": "2adbdefc-51f9-42f7-c800-ef62973df4f9"
      },
      "source": [
        "dict1={'Harry':15, 'Draco':8, 'Nevil':19}\n",
        "dict2={'Ginie':18, 'Luna': 14}\n",
        "marks = {}\n",
        "marks.update(dict1)\n",
        "marks.update(dict2)\n",
        "print('marks: ',marks)\n",
        "\n"
      ],
      "execution_count": null,
      "outputs": [
        {
          "output_type": "stream",
          "text": [
            "marks:  {'Harry': 15, 'Draco': 8, 'Nevil': 19, 'Ginie': 18, 'Luna': 14}\n"
          ],
          "name": "stdout"
        }
      ]
    },
    {
      "cell_type": "markdown",
      "metadata": {
        "id": "QRzP4HYStDSi"
      },
      "source": [
        "### Task 8\n",
        "Write a Python program that takes a dictionary as an input from the user and then prints the average of all the values in the dictionary.\n",
        "\n",
        " <font color='red'>[You are not allowed to use len() and sum()]</font>\n",
        "\n",
        "===================================================================\n",
        "\n",
        "**Hint (1): For taking dictionary input** \n",
        "\n",
        "Approach(1): For taking dictionary as an input from the user, you may take the whole dictionary as a string using the input() function. Then you can use the split(), strip() functions and conditions to get the keys and values from the string. Finally, you can make the dictionary using the obtained data.\n",
        "\n",
        "Approach(2): If the first approach seems too difficult you can create an empty dictionary and then just run a simple loop. For each iteration ask the user for a key and a value using the input() function and keep updating the dictionary with the key and value.\n",
        "\n",
        "\n",
        "**Hint (2):** After you have a dictionary, you can use dictionary functions to get all the values from it, run loop to calculate the sum and the total number of values in the dictionary in order to find out the average.\n",
        "\n",
        "===================================================================\n",
        "\n",
        "**Sample Input 1:**\n",
        "\n",
        "{'Jon': 100, 'Dan':200, 'Rob':300}\n",
        "\n",
        "**Sample Output 1:**\n",
        "\n",
        "Average is 200.\n",
        "\n",
        "===================================================================\n",
        "\n",
        "\n",
        "**Sample Input 2:**\n",
        "\n",
        "{'Jon': 100, 'Dan':200, 'Rob':30, 'Ned':110}\n",
        "\n",
        "**Sample Output 2:**\n",
        "\n",
        "Average is 110.\n",
        "\n",
        "===================================================================\n"
      ]
    },
    {
      "cell_type": "code",
      "metadata": {
        "id": "VMRLnA53tDSk",
        "colab": {
          "base_uri": "https://localhost:8080/",
          "height": 350
        },
        "outputId": "25995a69-a72e-4a64-d6f1-ba50bb7c0651"
      },
      "source": [
        "amount = int(input('please enter the amount: '))\n",
        "result = {}\n",
        "for char in range(amount):\n",
        "    key=input('please enter a key: ')\n",
        "    value=input('please enter a value: ')\n",
        "    result[key]=value\n",
        "sum=0\n",
        "average=0\n",
        "for char in result.values():\n",
        "    sum=sum+char\n",
        "    average=sum/len(result)\n",
        "print('average is',average)     \n"
      ],
      "execution_count": null,
      "outputs": [
        {
          "output_type": "stream",
          "text": [
            "please enter the amount: 3\n",
            "please enter a key: jon\n",
            "please enter a value: 100\n",
            "please enter a key: dan\n",
            "please enter a value: 200\n",
            "please enter a key: rob\n",
            "please enter a value: 300\n"
          ],
          "name": "stdout"
        },
        {
          "output_type": "error",
          "ename": "TypeError",
          "evalue": "ignored",
          "traceback": [
            "\u001b[0;31m---------------------------------------------------------------------------\u001b[0m",
            "\u001b[0;31mTypeError\u001b[0m                                 Traceback (most recent call last)",
            "\u001b[0;32m<ipython-input-4-5933075ff110>\u001b[0m in \u001b[0;36m<module>\u001b[0;34m()\u001b[0m\n\u001b[1;32m      8\u001b[0m \u001b[0maverage\u001b[0m\u001b[0;34m=\u001b[0m\u001b[0;36m0\u001b[0m\u001b[0;34m\u001b[0m\u001b[0;34m\u001b[0m\u001b[0m\n\u001b[1;32m      9\u001b[0m \u001b[0;32mfor\u001b[0m \u001b[0mchar\u001b[0m \u001b[0;32min\u001b[0m \u001b[0mresult\u001b[0m\u001b[0;34m.\u001b[0m\u001b[0mvalues\u001b[0m\u001b[0;34m(\u001b[0m\u001b[0;34m)\u001b[0m\u001b[0;34m:\u001b[0m\u001b[0;34m\u001b[0m\u001b[0;34m\u001b[0m\u001b[0m\n\u001b[0;32m---> 10\u001b[0;31m     \u001b[0msum\u001b[0m\u001b[0;34m=\u001b[0m\u001b[0msum\u001b[0m\u001b[0;34m+\u001b[0m\u001b[0mchar\u001b[0m\u001b[0;34m\u001b[0m\u001b[0;34m\u001b[0m\u001b[0m\n\u001b[0m\u001b[1;32m     11\u001b[0m     \u001b[0maverage\u001b[0m\u001b[0;34m=\u001b[0m\u001b[0msum\u001b[0m\u001b[0;34m/\u001b[0m\u001b[0mlen\u001b[0m\u001b[0;34m(\u001b[0m\u001b[0mresult\u001b[0m\u001b[0;34m)\u001b[0m\u001b[0;34m\u001b[0m\u001b[0;34m\u001b[0m\u001b[0m\n\u001b[1;32m     12\u001b[0m \u001b[0mprint\u001b[0m\u001b[0;34m(\u001b[0m\u001b[0;34m'average is'\u001b[0m\u001b[0;34m,\u001b[0m\u001b[0maverage\u001b[0m\u001b[0;34m)\u001b[0m\u001b[0;34m\u001b[0m\u001b[0;34m\u001b[0m\u001b[0m\n",
            "\u001b[0;31mTypeError\u001b[0m: unsupported operand type(s) for +: 'int' and 'str'"
          ]
        }
      ]
    },
    {
      "cell_type": "markdown",
      "metadata": {
        "id": "le7fZ8XC9j_x"
      },
      "source": [
        "### Task 9\n",
        "Suppose there is a dictionary named exam_marks as given below.\n",
        "\n",
        "exam_marks = {'Cierra Vega': 175, 'Alden Cantrell': 200, 'Kierra Gentry': 165, 'Pierre Cox': 190}\n",
        "\n",
        "Write a Python program that takes an input from the user and creates a new dictionary with only those elements from 'exam_marks' whose keys have values higher than the user input (inclusive).\n",
        "\n",
        "===================================================================\n",
        "\n",
        "**Sample Input 1:**\n",
        "\n",
        "170\n",
        "\n",
        "**Sample Output 1:**\n",
        "\n",
        "{'Cierra Vega': 175, 'Alden Cantrell': 200, 'Pierre Cox': 190}\n",
        "\n",
        "===================================================================\n",
        "\n",
        "**Sample Input 2:**\n",
        "\n",
        "190\n",
        "\n",
        "**Sample Output 2:**\n",
        "\n",
        "{'Alden Cantrell': 200, 'Pierre Cox': 190}\n",
        "\n",
        "==================================================================="
      ]
    },
    {
      "cell_type": "code",
      "metadata": {
        "id": "qJWoUsLN9lBY",
        "colab": {
          "base_uri": "https://localhost:8080/"
        },
        "outputId": "8ff0f603-9aac-4e30-86be-17c9b3a0700c"
      },
      "source": [
        "exam_marks = {'Cierra Vega': 175, 'Alden Cantrell': 200, 'Kierra Gentry': 165, 'Pierre Cox': 190}\n",
        "ans={}\n",
        "user_input = int(input('please enter a value: '))\n",
        "for (key,value) in exam_marks.items():\n",
        "  if value>=user_input:\n",
        "    ans[key]=value\n",
        "print(ans)\n"
      ],
      "execution_count": null,
      "outputs": [
        {
          "output_type": "stream",
          "text": [
            "please enter a value: 190\n",
            "{'Alden Cantrell': 200, 'Pierre Cox': 190}\n"
          ],
          "name": "stdout"
        }
      ]
    },
    {
      "cell_type": "markdown",
      "metadata": {
        "id": "IsqFQpqKtDSs"
      },
      "source": [
        "### Task 10\n",
        "Write a Python program that finds the largest value with its key from a given dictionary.  <font color='red'>[without using max() function]</font> \n",
        "\n",
        "**Note:** You do not need to take the dictionaries as an input from the user but your code should work for any given dictionary. Also, you need to handle the quotation marks as a part of the output.\n",
        "\n",
        "**Hint:** Think of membership operators (in and not in). You can use dictionary functions to get the values.\n",
        "\n",
        "===================================================================\n",
        "\n",
        "Sample 1:\n",
        "\n",
        "**Given:**\n",
        "\n",
        "{'sci fi': 12, 'mystery': 15, 'horror': 8, 'mythology': 10, 'young_adult': 4, 'adventure':14}\n",
        "\n",
        "**Output:**\n",
        "\n",
        "The highest selling book genre is 'mystery' and the number of books sold are 15.\n",
        "\n",
        "===================================================================\n",
        "\n",
        "Sample 2:\n",
        "\n",
        "**Given:**\n",
        "\n",
        "{'sci fi': 5, 'mystery': 3, 'horror': 14,\n",
        "             'young_adult': 2, 'adventure':9}\n",
        "\n",
        "**Output:**\n",
        "\n",
        "The highest selling book genre is  'horror'  and the number of books sold are 14.\n",
        "\n",
        "===================================================================\n"
      ]
    },
    {
      "cell_type": "code",
      "metadata": {
        "id": "v9Kosgs4tDSt",
        "colab": {
          "base_uri": "https://localhost:8080/"
        },
        "outputId": "7157fd1b-d73b-40b4-c8e2-1795b0de0c84"
      },
      "source": [
        "given_dict = {'sci fi': 12, 'mystery': 15, 'horror': 8, 'mythology': 10, 'young_adult': 4, 'adventure':14}\n",
        "largest_key = ''\n",
        "largest_val = 0\n",
        "for (key,value) in given_dict.items():\n",
        "    if value>largest_val:\n",
        "       largest_key=key\n",
        "       largest_val=value\n",
        "       \n",
        "print(\"The highest selling book genre is'\" + key + \"'and the number of books sold are\",largest_val)\n",
        "\n"
      ],
      "execution_count": null,
      "outputs": [
        {
          "output_type": "stream",
          "text": [
            "The highest selling book genre is'adventure'and the number of books sold are 15\n"
          ],
          "name": "stdout"
        }
      ]
    },
    {
      "cell_type": "markdown",
      "metadata": {
        "id": "hAqjgwGNtDS2"
      },
      "source": [
        "### Task 11\n",
        "Write a Python program that takes a String as an input from the user and counts the frequency of each character using a dictionary. For solving this problem, you may use each character as a key and its frequency as values. <font color='red'>[You are not allowed to use the count() function]</font> \n",
        "\n",
        "**Hint:** You can create a new dictionary to store the frequencies. You may ignore case for simplicity (i.e. may consider P and p to be the same).\n",
        "\n",
        "\n",
        "===================================================================\n",
        "\n",
        "**Sample Input:**\\\n",
        "\"Python programming is fun\"\n",
        "\n",
        "**Sample Output:**\\\n",
        "{'p': 2, 'y': 1, 't': 1, 'h': 1, 'o': 2, 'n': 3, 'r': 2, 'g': 2, 'a': 1, 'm': 2, 'i': 2, 's': 1, 'f': 1, 'u': 1}\n",
        "\n",
        "===================================================================\n",
        "\n"
      ]
    },
    {
      "cell_type": "code",
      "metadata": {
        "id": "-m2yPIT7tDS3",
        "colab": {
          "base_uri": "https://localhost:8080/"
        },
        "outputId": "7a3c26d6-1ab5-4ead-c6d1-f0a19ab6886f"
      },
      "source": [
        "string=input('please enter a string: ')\n",
        "answer={}\n",
        "string=string.lower()\n",
        "for x in string:\n",
        "  if x != ' ':\n",
        "    if x in answer:\n",
        "      answer[x]=answer[x]+1\n",
        "    else:\n",
        "      answer[x]=1\n",
        "print(answer)      \n",
        "\n"
      ],
      "execution_count": null,
      "outputs": [
        {
          "output_type": "stream",
          "text": [
            "please enter a string: Python programming is fun\n",
            "{'p': 2, 'y': 1, 't': 1, 'h': 1, 'o': 2, 'n': 3, 'r': 2, 'g': 2, 'a': 1, 'm': 2, 'i': 2, 's': 1, 'f': 1, 'u': 1}\n"
          ],
          "name": "stdout"
        }
      ]
    },
    {
      "cell_type": "markdown",
      "metadata": {
        "id": "QWf1zsBctDS6"
      },
      "source": [
        "### Task 12\n",
        "Suppose you are given the following dictionary where the values are lists. \n",
        "\n",
        "dict = {'A': [1, 2, 3], 'b': ['1', '2'], \"c\": [4, 5, 6, 7]}\n",
        "\n",
        "Write a Python program that counts the total number of items in a dictionary’s values and prints it. <font color='red'>[without using sum(), len(), count() functions]</font> \n",
        "\n",
        "**Note:**  Make changes to the above dictionary and see if your code works properly for other dictionaries as well.\n",
        "\n",
        "===================================================================\n",
        "\n",
        "**Output:**\n",
        "\n",
        "9\n",
        "\n",
        "===================================================================\n",
        "\n"
      ]
    },
    {
      "cell_type": "code",
      "metadata": {
        "id": "atnD3A1utDS6",
        "colab": {
          "base_uri": "https://localhost:8080/"
        },
        "outputId": "213d70b9-536d-4b3f-b1b3-75bba48ce408"
      },
      "source": [
        "given_dict = {'A': [1, 2, 3], 'b': ['1', '2'], \"c\": [4, 5, 6, 7]}\n",
        "count=0\n",
        "for char in given_dict.values():\n",
        "  for char in value:\n",
        "    count=count+1\n",
        "    print(count)\n"
      ],
      "execution_count": null,
      "outputs": [
        {
          "output_type": "stream",
          "text": [
            "1\n",
            "2\n",
            "3\n",
            "4\n",
            "5\n",
            "6\n",
            "7\n",
            "8\n",
            "9\n"
          ],
          "name": "stdout"
        }
      ]
    },
    {
      "cell_type": "markdown",
      "metadata": {
        "id": "-imuPb3EtDTD"
      },
      "source": [
        "### Task 13\n",
        "\n",
        "Suppose you have been given the following list of tuples. \n",
        "\n",
        "list = [(\"a\", 1), (\"b\", 2), (\"a\", 3), (\"b\", 1), (\"a\", 2), (\"c\", 1)]\n",
        "\n",
        "Write a Python program that converts this list of tuples into a dictionary and then prints the dictionary. <font color='red'>[You are not allowed to use set]</font> \n",
        "\n",
        "\n",
        "**Hint:** Think of membership operators (in and not in).\n",
        "\n",
        "===================================================================\n",
        "\n",
        "**Output:**\n",
        "\n",
        "{'a': [1, 3, 2], 'b': [2, 1], 'c': [1]}\n",
        "\n",
        " ===================================================================\n"
      ]
    },
    {
      "cell_type": "code",
      "metadata": {
        "id": "bBBcHpgYtDTE",
        "colab": {
          "base_uri": "https://localhost:8080/"
        },
        "outputId": "a14bbce5-ff7d-46a9-b53f-f3700962dcbd"
      },
      "source": [
        "given_list = [(\"a\", 1), (\"b\", 2), (\"a\", 3), (\"b\", 1), (\"a\", 2), (\"c\", 1)]\n",
        "output={}\n",
        "for key,value in given_list:\n",
        "  if key not in output:\n",
        "    output[key]=[]\n",
        "    output[key].append(value)\n",
        "  else:\n",
        "    output[key].append(value)\n",
        "print(output)\n",
        "\n"
      ],
      "execution_count": null,
      "outputs": [
        {
          "output_type": "stream",
          "text": [
            "{'a': [1, 3, 2], 'b': [2, 1], 'c': [1]}\n"
          ],
          "name": "stdout"
        }
      ]
    },
    {
      "cell_type": "markdown",
      "metadata": {
        "id": "UrxbFOWk5ASO"
      },
      "source": [
        "## Optional Tasks (14-18) [Ungraded]"
      ]
    },
    {
      "cell_type": "markdown",
      "metadata": {
        "id": "vtQRbX994-Se"
      },
      "source": [
        "### Task 14\n",
        "\n",
        "Given a list of tuples, your task is to multiply the elements of the tuple and return a list of multiplied elements as shown below.\n",
        "\n",
        "===================================================================\n",
        "\n",
        "**Example 1:**\n",
        "\n",
        "Given: \n",
        "\n",
        "[(2, 3), (4, 5), (6, 7), (2, 8)]\n",
        "\n",
        "**Output:**\n",
        "\n",
        "[6, 20, 42, 16]\n",
        "\n",
        "===================================================================\n",
        "\n",
        "**Example 2:**\n",
        "\n",
        "Given:\n",
        "\n",
        " [(11, 22), (33, 55), (55, 77), (11, 44)]\n",
        "\n",
        "**Output:**\n",
        "\n",
        "[242, 1815, 4235, 484]\n",
        "\n",
        "==================================================================="
      ]
    },
    {
      "cell_type": "code",
      "metadata": {
        "id": "xy-E_k6y5maj",
        "colab": {
          "base_uri": "https://localhost:8080/"
        },
        "outputId": "a713439f-4206-458c-9dcf-4538848c9240"
      },
      "source": [
        "given_list = [(11, 22), (33, 55), (55, 77), (11, 44)]\n",
        "ans=[]\n",
        "count=0\n",
        "for char in given_list:\n",
        "  x=given_list[count][0]*given_list[count][1]\n",
        "  count= count+1\n",
        "  ans.append(x)\n",
        "print(ans)"
      ],
      "execution_count": null,
      "outputs": [
        {
          "output_type": "stream",
          "text": [
            "[242, 1815, 4235, 484]\n"
          ],
          "name": "stdout"
        }
      ]
    },
    {
      "cell_type": "markdown",
      "metadata": {
        "id": "jZQHbegc-QBA"
      },
      "source": [
        "### Task 15\n",
        "\n",
        "Assume, you have been given a tuple as below.\n",
        "\n",
        "a_tuple = ( [1, 2, 3], [4, 5, 6], [7, 8, 9], [10, 11, 12])\n",
        "\n",
        "Write a Python program that asks the user for an input (can be any data type) and **replaces the last element of each of the inner lists with the user given value.**\n",
        "\n",
        "===================================================================\n",
        "\n",
        "**Sample Input 1:**\n",
        "\n",
        "abc\n",
        "\n",
        "**Sample Output 1:** \n",
        "\n",
        "([1, 2, 'abc'], [4, 5, 'abc'], [7, 8, 'abc'], [10, 11, 'abc'])\n",
        "\n",
        "===================================================================\n",
        "\n",
        "**Sample Input 1:**\n",
        "\n",
        "1000\n",
        "\n",
        "**Sample Output 1:** \n",
        "\n",
        "([1, 2, '1000'], [4, 5, '1000'], [7, 8, '1000'], [10, 11, '1000'])\n",
        "\n",
        "==================================================================="
      ]
    },
    {
      "cell_type": "code",
      "metadata": {
        "id": "SjdnEjCz5op1",
        "colab": {
          "base_uri": "https://localhost:8080/"
        },
        "outputId": "5b2056c9-78b5-45d7-96a6-dda53da2fa42"
      },
      "source": [
        "a_tuple = ( [1, 2, 3], [4, 5, 6], [7, 8, 9], [10, 11, 12])\n",
        "\n",
        "user_input=input('please enter an input of any data type: ')\n",
        "count=0\n",
        "for x in a_tuple:\n",
        "  a_tuple[count][-1]=user_input\n",
        "  count=count+1\n",
        "print(a_tuple)\n"
      ],
      "execution_count": null,
      "outputs": [
        {
          "output_type": "stream",
          "text": [
            "please enter an input of any data type: abc\n",
            "([1, 2, 'abc'], [4, 5, 'abc'], [7, 8, 'abc'], [10, 11, 'abc'])\n"
          ],
          "name": "stdout"
        }
      ]
    },
    {
      "cell_type": "markdown",
      "metadata": {
        "id": "dVZrZ8Od6WwM"
      },
      "source": [
        "### Task 16\n",
        "\n",
        "Suppose there is a dictionary named my_dictionary.\n",
        "\n",
        "my_dictionary = {'c1':'Red', 'c2':'Green', 'c3':None, 'd4':'Blue', 'a5':None}.\n",
        "\n",
        "Now write a Python program to remove empty items from the dictionary. [Empty items means keys without any values (None)].\n",
        "\n",
        "===================================================================\n",
        "\n",
        "**Output:**\n",
        "\n",
        "{'c1':'Red', 'c2':'Green', 'd4':'Blue'}\n",
        "\n",
        "==================================================================="
      ]
    },
    {
      "cell_type": "code",
      "metadata": {
        "id": "cK9Nh7-F6YUE",
        "colab": {
          "base_uri": "https://localhost:8080/",
          "height": 129
        },
        "outputId": "ecd2f8a9-d66a-484c-9874-5d5e06af3b93"
      },
      "source": [
        "my_dictionary = {'c1':'Red', 'c2':'Green', 'c3':None, 'd4':'Blue', 'a5':None}\n",
        "ans={}\n",
        "for key,value in my_dictionary:\n",
        "    if value==None:\n",
        "    \n",
        "    else:\n",
        "      ans.update(my_dictionary)\n",
        "      print(ans)\n"
      ],
      "execution_count": 4,
      "outputs": [
        {
          "output_type": "error",
          "ename": "IndentationError",
          "evalue": "ignored",
          "traceback": [
            "\u001b[0;36m  File \u001b[0;32m\"<ipython-input-4-5d019c0fe876>\"\u001b[0;36m, line \u001b[0;32m6\u001b[0m\n\u001b[0;31m    else:\u001b[0m\n\u001b[0m       ^\u001b[0m\n\u001b[0;31mIndentationError\u001b[0m\u001b[0;31m:\u001b[0m expected an indented block\n"
          ]
        }
      ]
    },
    {
      "cell_type": "markdown",
      "metadata": {
        "id": "_W2bOMJn62xF"
      },
      "source": [
        "### Task 17\n",
        "\n",
        "Suppose you are given a dictionary as shown below. Write a Python program that takes two inputs from the user representing the lower (inclusive) and upper (exclusive) of a range of values. Your task is to extract all the items from the dictionary whose values lie in the range given as input by the user.\n",
        "\n",
        "dictionary = {'a' : 6, 'b' : 7, 'c' : 9, 'd' : 8, 'e' : 11, 'f' : 12, 'g' : 13}\n",
        "\n",
        "===================================================================\n",
        "\n",
        "**Sample Input 1:**\n",
        "\n",
        "9, 12\n",
        "\n",
        "**Sample Output 1:**\n",
        "\n",
        "{'c': 9, 'e': 11}\n",
        "\n",
        "**Explanation:**  Keys with values within the range of 9 and 11 are extracted.\n",
        "\n",
        "===================================================================\n",
        "\n",
        "**Sample Input 2:** \n",
        "\n",
        "14, 18\n",
        "\n",
        "**Sample Output 2 :**\n",
        "\n",
        "{}\n",
        "\n",
        "**Explanation:**  No values in range.\n",
        "\n",
        "==================================================================="
      ]
    },
    {
      "cell_type": "code",
      "metadata": {
        "id": "MLh9VlLD633D"
      },
      "source": [
        "#to do\n"
      ],
      "execution_count": null,
      "outputs": []
    },
    {
      "cell_type": "markdown",
      "metadata": {
        "id": "zC94TVcD7LqM"
      },
      "source": [
        "### Task 18\n",
        "\n",
        "Given a list of tuples, your task is to group the tuples based on the **second** element in the tuples as shown in the examples below. We can achieve this using **dictionary** by checking the second element in each tuple.\n",
        "\n",
        "[You do not need to take tuple as input and can assume that it is given as below]\n",
        "\n",
        "===================================================================\n",
        "\n",
        "**Example 1:**\n",
        "\n",
        "Given:\n",
        "\n",
        "[(20, 80), (31, 80), (1, 22), (88, 11), (27, 11)]\n",
        "\n",
        "**Output:**\n",
        "\n",
        "{80: [(20, 80), (31, 80)],\\\n",
        "         11: [(88, 11), (27, 11)],\\\n",
        "         22: [(1, 22)]}\n",
        "       \n",
        "===================================================================\n",
        "\n",
        "**Example 2:**\n",
        "\n",
        "Given:\n",
        "\n",
        "[(20, 'Sad'), (31, 'Sad'), (88, 'NotSad'), (27, 'NotSad')]\n",
        "\n",
        "**Output:**\n",
        "\n",
        "{'NotSad': [(88, 'NotSad'), (27, 'NotSad')],\\\n",
        "         'Sad: [(20, 'Sad'), (31, 'Sad')]}\n",
        "\n",
        "==================================================================="
      ]
    },
    {
      "cell_type": "code",
      "metadata": {
        "id": "zAunp7oZ7H-l"
      },
      "source": [
        "\n"
      ],
      "execution_count": null,
      "outputs": []
    }
  ]
}