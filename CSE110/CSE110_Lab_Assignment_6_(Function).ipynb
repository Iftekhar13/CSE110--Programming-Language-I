{
  "nbformat": 4,
  "nbformat_minor": 0,
  "metadata": {
    "kernelspec": {
      "display_name": "Python 3",
      "language": "python",
      "name": "python3"
    },
    "language_info": {
      "codemirror_mode": {
        "name": "ipython",
        "version": 3
      },
      "file_extension": ".py",
      "mimetype": "text/x-python",
      "name": "python",
      "nbconvert_exporter": "python",
      "pygments_lexer": "ipython3",
      "version": "3.7.6"
    },
    "colab": {
      "name": "CSE110 Lab Assignment 6_(Function).ipynb",
      "provenance": [],
      "collapsed_sections": [],
      "toc_visible": true
    }
  },
  "cells": [
    {
      "cell_type": "markdown",
      "metadata": {
        "id": "mRHB9cBf5D7V"
      },
      "source": [
        "# CSE110 Lab Assignment 6\n",
        "This assignment is to guide you to solve everything you have learned so far by implementing functions in Python. \n",
        "\n",
        "\n",
        "\n",
        "Write your name, student id and CSE110 section below:"
      ]
    },
    {
      "cell_type": "code",
      "metadata": {
        "id": "YzSo433_gwDg"
      },
      "source": [
        "#STUDENT NAME: Iftekhar Al-Mahmud\n",
        "#STUDENT ID: 20201120\n",
        "#CSE110 SECTION: 07"
      ],
      "execution_count": null,
      "outputs": []
    },
    {
      "cell_type": "markdown",
      "metadata": {
        "id": "_uzpm0b85D7Z"
      },
      "source": [
        "**<font color='red'>[MUST MAINTAIN VARIABLE NAMING CONVENTIONS FOR ALL THE TASKS]</font>**\n",
        "\n",
        "## Write the Python code of the following problems:\n",
        "\n",
        "### Task 1\n",
        "Write a function called **even_checker** that takes a number as an argument and prints whether the number is even or odd **inside the function**.\n",
        "\n",
        "===================================\n",
        "\n",
        "**Example1:** \\\n",
        "**Function Call:**\\\n",
        "even_checker(5)\\\n",
        "**Output:**\\\n",
        "Odd!!\n",
        "\n",
        "=============================\n",
        "\n",
        "**Example2:** \\\n",
        "**Function Call:**\\\n",
        "even_checker(2)\\\n",
        "**Output:**\\\n",
        "Even!!\n",
        "\n"
      ]
    },
    {
      "cell_type": "code",
      "metadata": {
        "id": "tMMBecSe5D7a",
        "colab": {
          "base_uri": "https://localhost:8080/"
        },
        "outputId": "7468656a-d7bf-4e65-95a9-93f08be146a7"
      },
      "source": [
        "def even_checker(number):\n",
        "  if number%2==0:\n",
        "    print('Even!!')\n",
        "  else:\n",
        "    print('Odd!!')\n",
        "even_checker(2)\n"
      ],
      "execution_count": null,
      "outputs": [
        {
          "output_type": "stream",
          "text": [
            "Even!!\n"
          ],
          "name": "stdout"
        }
      ]
    },
    {
      "cell_type": "markdown",
      "metadata": {
        "id": "YFKgn6Yw5D7f"
      },
      "source": [
        "### Task 2\n",
        "Write a python function that takes the limit as an argument of the Fibonacci series and prints till that limit. \n",
        "\n",
        "===================================\n",
        "\n",
        "**Function Call:**\\\n",
        "fibonacci(10)\\\n",
        "**Output:**\\\n",
        "0 1 1 2 3 5 8\\\n",
        "======================\\\n",
        "**Function Call:**\\\n",
        "fibonacci(5)\\\n",
        "**Output:**\\\n",
        "0 1 1 2 3 5 "
      ]
    },
    {
      "cell_type": "code",
      "metadata": {
        "id": "J4ab_IeA5D7g",
        "colab": {
          "base_uri": "https://localhost:8080/"
        },
        "outputId": "4fb39479-3876-420e-bf3e-29819f35d1d9"
      },
      "source": [
        "def fibonacci(num):\n",
        "  num1=0\n",
        "  num2=1\n",
        "  print(num1,num2,end=' ')  \n",
        "  char=0\n",
        "  while char<=num:\n",
        "    char=char+1\n",
        "    next_num=num1+num2\n",
        "    if next_num<=num:\n",
        "      print(next_num,end=' ')\n",
        "      num1=num2\n",
        "      num2=next_num\n",
        "fibonacci(5)"
      ],
      "execution_count": null,
      "outputs": [
        {
          "output_type": "stream",
          "text": [
            "0 1 1 2 3 5 "
          ],
          "name": "stdout"
        }
      ]
    },
    {
      "cell_type": "markdown",
      "metadata": {
        "id": "rDY_xNcO5D7k"
      },
      "source": [
        "### Task 3\n",
        "Write a function called **foo_moo** that takes a number as an argument and **returns** the following statements according the below mention conditions. Then, finally prints the statement in the function call. \n",
        "\n",
        "* \tIf the number is divisible by 2, it should return \"Foo\".\n",
        "*   If the number is divisible by 3, it should return \"Moo\". \n",
        "*   If the number is divisible by both 2 and 3, it should return \"FooMoo\".\n",
        "*   Otherwise, it returns \"Boo\".\n",
        "\n",
        "===================================\n",
        "\n",
        "**Example1:** \\\n",
        "**Function Call:**\\\n",
        "foo_moo(5)\\\n",
        "**Output:**\\\n",
        "Boo\n",
        "\n",
        "=================\n",
        "\n",
        "\n",
        "**Example2:** \\\n",
        "**Function Call:**\\\n",
        "foo_moo(4)\\\n",
        "**Output:**\\\n",
        "Foo\n",
        "\n",
        "=================\n",
        "\n",
        "\n",
        "**Example3:** \\\n",
        "**Function Call:**\\\n",
        "foo_moo(6)\\\n",
        "**Output:**\\\n",
        "FooMoo\n",
        "\n"
      ]
    },
    {
      "cell_type": "code",
      "metadata": {
        "id": "2roUcNrC5D7l",
        "colab": {
          "base_uri": "https://localhost:8080/"
        },
        "outputId": "8f5d61bc-1fa8-4a2d-faa9-f127ed4635b1"
      },
      "source": [
        "def foo_moo(number):\n",
        "  if number%2==0 and number%3==0:\n",
        "    return 'FooMoo'\n",
        "  elif number%2==0:\n",
        "    return 'Foo'\n",
        "  elif number%3==0:\n",
        "   return 'Moo'\n",
        "  else:\n",
        "    return 'Boo'\n",
        "print(foo_moo(6))"
      ],
      "execution_count": null,
      "outputs": [
        {
          "output_type": "stream",
          "text": [
            "FooMoo\n"
          ],
          "name": "stdout"
        }
      ]
    },
    {
      "cell_type": "markdown",
      "metadata": {
        "id": "nemw1U-i5D7s"
      },
      "source": [
        "### Task 4\n",
        "Write a python function that takes a string as an argument. Your task is to calculate the number of uppercase letters and lowercase letters and print them in the function. \n",
        "\n",
        "===================================\n",
        "\n",
        "**Function Call:**\\\n",
        "function_name('The quick Sand Man')\\\n",
        "**Output:**\\\n",
        "No. of Uppercase characters : 3\\\n",
        "No. of Lowercase Characters: 12\\\n",
        "============================\\\n",
        "**Function Call:**\\\n",
        "function_name('HaRRy PotteR')\\\n",
        "**Output:**\\\n",
        "No. of Uppercase characters : 5\\\n",
        "No. of Lowercase Characters: 6\n"
      ]
    },
    {
      "cell_type": "code",
      "metadata": {
        "id": "4ZBb4Mcr5D7t",
        "colab": {
          "base_uri": "https://localhost:8080/"
        },
        "outputId": "71d2206c-93e5-48eb-b0f0-e0f781059da4"
      },
      "source": [
        "def function_name(string):\n",
        "  lower_case=0\n",
        "  upper_case=0\n",
        "  for x in string:\n",
        "    if x.islower():\n",
        "        lower_case=lower_case+1\n",
        "    if x.isupper():\n",
        "        upper_case=upper_case+1\n",
        "  print('No. of Uppercase characters: ',upper_case)\n",
        "  print('No. of Lowercase characters: ',lower_case)\n",
        "function_name('HaRRy PotteR')    "
      ],
      "execution_count": null,
      "outputs": [
        {
          "output_type": "stream",
          "text": [
            "No. of Uppercase characters:  5\n",
            "No. of Lowercase characters:  6\n"
          ],
          "name": "stdout"
        }
      ]
    },
    {
      "cell_type": "markdown",
      "metadata": {
        "id": "e9bojIHe5D7w"
      },
      "source": [
        ".### Task 5\n",
        "Write a function called **calculate_tax** that takes 3 arguments: your age, salary, and current job designation.\n",
        "\n",
        "\n",
        "Your first task is to take these arguments as user input and pass these values to the function.\n",
        "\n",
        "Your second task is to implement the function and calculate the tax as the following conditions:\n",
        "*  **NO TAX IF YOU ARE LESS THAN 18 YEARS OLD.**\n",
        "*  **NO TAX IF YOU ARE THE PRESIDENT OF THE COMPANY** \n",
        "*  No tax if you get paid less than 10,000\n",
        "*  5% tax if you get paid between 10K and 20K\n",
        "*  10% tax if you get paid more than 20K\n",
        "\n",
        "\n",
        "Finally return this tax value. Then print the returned value in the function call.\n",
        "\n",
        "===================================\n",
        "\n",
        "**Hints:**\\\n",
        "Here the job designation is a string, so it can be written in both uppercase and lower cases. So, you need to check the value ignoring the case.\n",
        "\n",
        "===================================\n",
        "\n",
        "**Example1:** \\\n",
        "**Input:**\\\n",
        "16\\\n",
        "20000\\\n",
        "Student\\\n",
        "**Function Call:**\\\n",
        "calculate_tax(16, 20000, 'Student')\\\n",
        "**Output:**\\\n",
        "0\n",
        "\n",
        "===================================\n",
        "\n",
        "**Example2:** \\\n",
        "**Input:**\\\n",
        "20\\\n",
        "18000\\\n",
        "assistant manager\\\n",
        "**Function Call:**\\\n",
        "calculate_tax(20, 18000, 'assistant manager')\\\n",
        "**Output:**\\\n",
        "900.0\n",
        "\n",
        "\n",
        "===================================\n",
        "\n",
        "**Example3:** \\\n",
        "**Input:**\\\n",
        "20\\\n",
        "22000\\\n",
        "assistant manager\\\n",
        "**Function Call:**\\\n",
        "calculate_tax(20, 22000, 'Assistant manager')\\\n",
        "**Output:**\\\n",
        "2200.0\n",
        "\n",
        "===================================\n",
        "\n",
        "\n",
        "**Example4:** \\\n",
        "**Input:**\\\n",
        "20\\\n",
        "122000\\\n",
        "president\\\n",
        "**Function Call:**\\\n",
        "calculate_tax(20, 122000, 'president')\\\n",
        "**Output:**\\\n",
        "0\n",
        " \n",
        "\n",
        "\n"
      ]
    },
    {
      "cell_type": "code",
      "metadata": {
        "colab": {
          "base_uri": "https://localhost:8080/"
        },
        "id": "3RJCufs0XjgV",
        "outputId": "096fbdde-1ef1-4609-a81e-9d23c9054fea"
      },
      "source": [
        "def calculate_tax(age,salary,job):\n",
        "  if age<18:\n",
        "    return 0\n",
        "  if job=='president':\n",
        "    return 0\n",
        "  if salary<10000:\n",
        "    return 0\n",
        "  if salary>=10000 and salary<=20000:\n",
        "    salary= 5/100*salary\n",
        "    return salary\n",
        "  if salary>20000:\n",
        "    salary = 10/100*salary\n",
        "    return salary\n",
        "print(calculate_tax(20,22000,'assistant manager'))\n"
      ],
      "execution_count": null,
      "outputs": [
        {
          "output_type": "stream",
          "text": [
            "2200.0\n"
          ],
          "name": "stdout"
        }
      ]
    },
    {
      "cell_type": "markdown",
      "metadata": {
        "id": "VXLQHyLp5D71"
      },
      "source": [
        "### Task 6\n",
        "Write a function which will take 1 argument, number of days.\n",
        "\n",
        "Your first task is to take the number of days as user input and pass the value to the function.\n",
        " \n",
        "Your second task is to implement the function and calculate the total number of years, number of months, and the remaining number of days as output. No need to return any value, print inside the function. \n",
        "\n",
        "**Note:** Assume, each year to be 365 days and month to be 30 days.\n",
        "\n",
        "=====================================================\n",
        " \n",
        "**Hint(1):** \\\n",
        "Divide and mod the main input to get the desired output.\n",
        "\n",
        "**Hint(2):**\n",
        "This task’s calculation is similar to Assignment-1’s seconds to hours, minutes conversion.\n",
        "\n",
        "=====================================================\n",
        "\n",
        "**Example01**\n",
        "\n",
        "**Input:**\\\n",
        "4330\\\n",
        "**Function Call:**\\\n",
        "function_name(4330)\\\n",
        "**Output:**\\\n",
        "11 years, 10 months and 15 days\n",
        "\n",
        "================================\n",
        "\n",
        "**Example02**\n",
        "\n",
        "**Input:**\\\n",
        "2250\\\n",
        "**Function Call:**\\\n",
        "function_name(2250)\\\n",
        "**Output:**\\\n",
        "6 years, 2 months and 0 days\n",
        "\n",
        "\n"
      ]
    },
    {
      "cell_type": "code",
      "metadata": {
        "id": "gkE9d9gs5D72",
        "colab": {
          "base_uri": "https://localhost:8080/"
        },
        "outputId": "e6ca9477-766b-4116-c0de-c8e56f9618de"
      },
      "source": [
        "def function_name(user_input):\n",
        "    years=user_input//365\n",
        "      \n",
        "    months=(user_input-years*365)//30\n",
        "      \n",
        "    days=user_input-(years*365)-months*30\n",
        "    print(years,'years',months,'months',days,'days')\n",
        "function_name(2250)\n",
        "\n",
        "\n"
      ],
      "execution_count": null,
      "outputs": [
        {
          "output_type": "stream",
          "text": [
            "6 years 2 months 0 days\n"
          ],
          "name": "stdout"
        }
      ]
    },
    {
      "cell_type": "markdown",
      "metadata": {
        "id": "8-vvES0i5D8B"
      },
      "source": [
        "### Task 7\n",
        "Write a function called **show_palindrome** that takes a number as an argument and then returns a palindrome string. Finally, prints the returned value in the function call.\n",
        "\n",
        "=====================================================\n",
        "\n",
        "**Example1:** \\\n",
        "**Function Call:**\\\n",
        "show_palindrome(5)\\\n",
        "**Output:**\\\n",
        "123454321\n",
        "\n",
        "===================\n",
        "\n",
        "**Example2:** \\\n",
        "**Function Call:**\\\n",
        "show_palindrome(3)\\\n",
        "**Output:**\\\n",
        "12321\n"
      ]
    },
    {
      "cell_type": "code",
      "metadata": {
        "id": "QN-Iu8sz5D8C",
        "colab": {
          "base_uri": "https://localhost:8080/"
        },
        "outputId": "4cab9269-ccf0-4143-caf9-31cdbade23fe"
      },
      "source": [
        "def show_palindrome(user_input):\n",
        "  count1=''\n",
        "  for x in range(1,user_input+1):\n",
        "      count1=count1+str(x)\n",
        "  count2=''\n",
        "  for y in range(user_input-1,0,-1):\n",
        "      count2=count2+str(y)\n",
        "  ans=count1+count2    \n",
        "  return ans\n",
        "print(show_palindrome(5))"
      ],
      "execution_count": null,
      "outputs": [
        {
          "output_type": "stream",
          "text": [
            "123454321\n"
          ],
          "name": "stdout"
        }
      ]
    },
    {
      "cell_type": "markdown",
      "metadata": {
        "id": "V_PVNpx45D8F"
      },
      "source": [
        "### Task 8\n",
        "Write a function called **show_palindromic_triangle** that takes a number as an argument and prints a Palindromic Triangle in the function.\n",
        "\n",
        "=====================================================\n",
        "\n",
        "**Hints(1):** \\\n",
        "Need to use both print() and print( , end = \" \") functions\n",
        "\n",
        "**Hints(2):** \\\n",
        "You can reuse the function from the previous task.\n",
        "\n",
        "=====================================================\n",
        "\n",
        "**Example1:** \\\n",
        "**Function Call:**\\\n",
        "show_palindromic_triangle(5)\\\n",
        "**Output:**\n",
        "\n",
        "&emsp; &emsp; &emsp; &emsp; 1\\\n",
        "&emsp; &emsp; &emsp; 1 &nbsp; 2 &nbsp; 1 \\\n",
        "&emsp; &emsp; 1 &nbsp; 2 &nbsp; 3 &nbsp; 2 &nbsp; 1 \\\n",
        "&emsp; 1 &nbsp; 2 &nbsp; 3 &nbsp; 4 &nbsp; 3 &nbsp; 2 &nbsp; 1 \\\n",
        "1 &nbsp; 2 &nbsp; 3 &nbsp; 4 &nbsp; 5 &nbsp; 4 &nbsp; 3 &nbsp; 2 &nbsp; 1\n",
        "\n",
        "=============================================================\n",
        "\n",
        "\n",
        "**Example2:** \\\n",
        "**Function Call:**\\\n",
        "show_palindromic_triangle(3)\\\n",
        "**Output:**\n",
        "\n",
        "&emsp; &emsp; 1 \\\n",
        "&emsp; 1 &nbsp; 2 &nbsp; 1 \\\n",
        "1 &nbsp; 2 &nbsp; 3 &nbsp; 2 &nbsp; 1\n",
        "\n",
        "\n"
      ]
    },
    {
      "cell_type": "code",
      "metadata": {
        "id": "fUu0BrHz5D8G",
        "colab": {
          "base_uri": "https://localhost:8080/"
        },
        "outputId": "6e1f1be7-c36b-40e5-8421-4ab2c3d574f3"
      },
      "source": [
        "def show_palindromic_triangle(number):\n",
        "  \n",
        "  number=int(input('please enter a number: '))\n",
        "  for row in range(1,number+1):\n",
        "    \n",
        "    for space in range(1,number-row+1):\n",
        "      print(' ',end=' ')\n",
        "    for col in range(1,row+1):\n",
        "      print(col,end=' ')\n",
        "    for col in range(row-1,0,-1):\n",
        "      print(col,end=' ')\n",
        "    print()\n",
        "\n",
        "show_palindromic_triangle(number)  "
      ],
      "execution_count": null,
      "outputs": [
        {
          "output_type": "stream",
          "text": [
            "please enter a number: 5\n",
            "        1 \n",
            "      1 2 1 \n",
            "    1 2 3 2 1 \n",
            "  1 2 3 4 3 2 1 \n",
            "1 2 3 4 5 4 3 2 1 \n"
          ],
          "name": "stdout"
        }
      ]
    },
    {
      "cell_type": "markdown",
      "metadata": {
        "id": "iLTMEWXg5D8M"
      },
      "source": [
        "### Task 09\n",
        "Write a function called **area_circumference_generator** that takes a radius of a circle as a  function parameter and calculates its circumference and area. Then returns these two results as a **tuple** and prints the results using tuple unpacking in the function call accorrding to the given format. <font color='red'>[Must use tuple packing & unpacking] </font> \n",
        "\n",
        "=====================================================\n",
        "\n",
        "**Example1:** \\\n",
        "**Function Call:**\\\n",
        "area_circumference_generator(1)\\\n",
        "**Output:**\\\n",
        "(3.141592653589793, 6.283185307179586)\\\n",
        "Area of the circle is 3.141592653589793 and circumference is 6.283185307179586\n",
        "\n",
        "====================================\n",
        "\n",
        "**Example2:** \\\n",
        "**Function Call:**\\\n",
        "area_circumference_generator(1.5)\\\n",
        "**Output:**\\\n",
        "(7.0685834705770345, 9.42477796076938)\\\n",
        "Area of the circle is 7.0685834705770345 and circumference is 9.42477796076938\n",
        "\n",
        "====================================\n",
        "\n",
        "\n",
        "**Example3:** \\\n",
        "**Function Call:**\\\n",
        "area_circumference_generator(2.5)\\\n",
        "**Output:**\\\n",
        "(19.634954084936208, 15.707963267948966)\\\n",
        "Area of the circle is 19.634954084936208 and circumference is 15.707963267948966\n"
      ]
    },
    {
      "cell_type": "code",
      "metadata": {
        "id": "k8SLTHf35D8N",
        "colab": {
          "base_uri": "https://localhost:8080/"
        },
        "outputId": "1ff951ea-a323-422f-e626-6c93b916ff42"
      },
      "source": [
        "\n",
        "def area_circumference_generator(radius):\n",
        "  import math\n",
        "  area_circumference_generator=(math.pi*radius**2,2*math.pi*radius)\n",
        "  return area_circumference_generator\n",
        "radius=float(input('please enter a radius for your circle: '))\n",
        "area, circumference=area_circumference_generator(radius)\n",
        "print(area_circumference_generator(radius))\n",
        "print('the area of the circle is',area,'and circumference is',circumference)\n"
      ],
      "execution_count": null,
      "outputs": [
        {
          "output_type": "stream",
          "text": [
            "please enter a radius for your circle: 2.5\n",
            "(19.634954084936208, 15.707963267948966)\n",
            "the area of the circle is 19.634954084936208 and circumference is 15.707963267948966\n"
          ],
          "name": "stdout"
        }
      ]
    },
    {
      "cell_type": "markdown",
      "metadata": {
        "id": "NpgEU6ZI5D8S"
      },
      "source": [
        "### Task 10\n",
        "Write a function called **make_square** that takes a tuple in the parameter as a range of numbers (starting point and ending point (included)). The function should **return a dictionary** with the numbers as keys and its squares as values.\n",
        "\n",
        "=====================================================\n",
        "\n",
        "**Hints:** \\\n",
        "You need to declare a dictionary to store the result. You should use the range function to run the “for loop”.\n",
        "\n",
        "\n",
        "=====================================================\n",
        "\n",
        "**Example1:** \\\n",
        "**Function Call:**\\\n",
        "make_square((1,3))\\\n",
        "**Output:**\\\n",
        "{1: 1, 2: 4, 3: 9}\n",
        "\n",
        "====================================\n",
        "\n",
        "**Example2:** \\\n",
        "**Function Call:**\\\n",
        "make_square((5,9))\\\n",
        "**Output:**\\\n",
        "{5: 25, 6: 36, 7: 49, 8: 64, 9: 81}\n",
        "\n",
        "\n",
        "\n"
      ]
    },
    {
      "cell_type": "code",
      "metadata": {
        "id": "-KGD8b0F5D8T",
        "colab": {
          "base_uri": "https://localhost:8080/"
        },
        "outputId": "2c6bda5b-5731-403c-e80b-750dc68974fb"
      },
      "source": [
        "def make_square(num):\n",
        "  ans={}\n",
        "  \n",
        "  for x in range(num[0],num[1]+1):\n",
        "    ans[x]=x**2\n",
        "  return ans\n",
        "print(make_square((5,9)))\n"
      ],
      "execution_count": null,
      "outputs": [
        {
          "output_type": "stream",
          "text": [
            "{5: 25, 6: 36, 7: 49, 8: 64, 9: 81}\n"
          ],
          "name": "stdout"
        }
      ]
    },
    {
      "cell_type": "markdown",
      "metadata": {
        "id": "J7xaBB5i5D8c"
      },
      "source": [
        "### Task 11\n",
        "Write a function called **rem_duplicate** that takes a tuple in the parameter and return a tuple removing all the duplicate values. Then print the returned tuple in the function call.\n",
        "\n",
        "=====================================================\n",
        "\n",
        "**Hints:** \\\n",
        "Unlike lists, tuples are immutable so, the tuple taken as an argument cannot be modified. But list can be modified and lastly for returning the result use type conversion. You need to use membership operators (in, not in) for preventing adding any duplicates values.\n",
        "\n",
        "=====================================================\n",
        "\n",
        "\n",
        "**Example1:** \\\n",
        "**Function Call:**\\\n",
        "rem_duplicate((1,1,1,2,3,4,5,6,6,6,6,4,0,0,0))\\\n",
        "**Output:**\\\n",
        "(1, 2, 3, 4, 5, 6, 0)\n",
        "\n",
        "====================================\n",
        "\n",
        "**Example2:** \\\n",
        "**Function Call:**\\\n",
        "rem_duplicate((\"Hi\", 1, 2, 3, 3, \"Hi\",'a', 'a', [1,2]))\\\n",
        "**Output:**\\\n",
        "('Hi', 1, 2, 3, 'a', [1, 2])\n",
        "\n",
        "\n",
        "\n"
      ]
    },
    {
      "cell_type": "code",
      "metadata": {
        "id": "mniLLbJY5D8d",
        "colab": {
          "base_uri": "https://localhost:8080/",
          "height": 316
        },
        "outputId": "59ae88eb-bd98-4e5f-933a-40b58ac45a37"
      },
      "source": [
        "def rem_duplicate(tpl):\n",
        "  \n",
        "  list(tpl)\n",
        "  alist=[]\n",
        "  for x in tpl:\n",
        "    if x in alist:\n",
        "      alist=tpl[x]+1\n",
        "    else:\n",
        "      alist.append(tpl[x])\n",
        "  return tuple(alist)\n",
        "print(rem_duplicate((\"Hi\", 1, 2, 3, 3, \"Hi\",'a', 'a', [1,2])))"
      ],
      "execution_count": null,
      "outputs": [
        {
          "output_type": "error",
          "ename": "TypeError",
          "evalue": "ignored",
          "traceback": [
            "\u001b[0;31m---------------------------------------------------------------------------\u001b[0m",
            "\u001b[0;31mTypeError\u001b[0m                                 Traceback (most recent call last)",
            "\u001b[0;32m<ipython-input-84-05d85f8123b6>\u001b[0m in \u001b[0;36m<module>\u001b[0;34m()\u001b[0m\n\u001b[1;32m      9\u001b[0m       \u001b[0malist\u001b[0m\u001b[0;34m.\u001b[0m\u001b[0mappend\u001b[0m\u001b[0;34m(\u001b[0m\u001b[0mtpl\u001b[0m\u001b[0;34m[\u001b[0m\u001b[0mx\u001b[0m\u001b[0;34m]\u001b[0m\u001b[0;34m)\u001b[0m\u001b[0;34m\u001b[0m\u001b[0;34m\u001b[0m\u001b[0m\n\u001b[1;32m     10\u001b[0m   \u001b[0;32mreturn\u001b[0m \u001b[0mtuple\u001b[0m\u001b[0;34m(\u001b[0m\u001b[0malist\u001b[0m\u001b[0;34m)\u001b[0m\u001b[0;34m\u001b[0m\u001b[0;34m\u001b[0m\u001b[0m\n\u001b[0;32m---> 11\u001b[0;31m \u001b[0mprint\u001b[0m\u001b[0;34m(\u001b[0m\u001b[0mrem_duplicate\u001b[0m\u001b[0;34m(\u001b[0m\u001b[0;34m(\u001b[0m\u001b[0;34m\"Hi\"\u001b[0m\u001b[0;34m,\u001b[0m \u001b[0;36m1\u001b[0m\u001b[0;34m,\u001b[0m \u001b[0;36m2\u001b[0m\u001b[0;34m,\u001b[0m \u001b[0;36m3\u001b[0m\u001b[0;34m,\u001b[0m \u001b[0;36m3\u001b[0m\u001b[0;34m,\u001b[0m \u001b[0;34m\"Hi\"\u001b[0m\u001b[0;34m,\u001b[0m\u001b[0;34m'a'\u001b[0m\u001b[0;34m,\u001b[0m \u001b[0;34m'a'\u001b[0m\u001b[0;34m,\u001b[0m \u001b[0;34m[\u001b[0m\u001b[0;36m1\u001b[0m\u001b[0;34m,\u001b[0m\u001b[0;36m2\u001b[0m\u001b[0;34m]\u001b[0m\u001b[0;34m)\u001b[0m\u001b[0;34m)\u001b[0m\u001b[0;34m)\u001b[0m\u001b[0;34m\u001b[0m\u001b[0;34m\u001b[0m\u001b[0m\n\u001b[0m",
            "\u001b[0;32m<ipython-input-84-05d85f8123b6>\u001b[0m in \u001b[0;36mrem_duplicate\u001b[0;34m(tpl)\u001b[0m\n\u001b[1;32m      7\u001b[0m       \u001b[0malist\u001b[0m\u001b[0;34m=\u001b[0m\u001b[0mtpl\u001b[0m\u001b[0;34m[\u001b[0m\u001b[0mx\u001b[0m\u001b[0;34m]\u001b[0m\u001b[0;34m+\u001b[0m\u001b[0;36m1\u001b[0m\u001b[0;34m\u001b[0m\u001b[0;34m\u001b[0m\u001b[0m\n\u001b[1;32m      8\u001b[0m     \u001b[0;32melse\u001b[0m\u001b[0;34m:\u001b[0m\u001b[0;34m\u001b[0m\u001b[0;34m\u001b[0m\u001b[0m\n\u001b[0;32m----> 9\u001b[0;31m       \u001b[0malist\u001b[0m\u001b[0;34m.\u001b[0m\u001b[0mappend\u001b[0m\u001b[0;34m(\u001b[0m\u001b[0mtpl\u001b[0m\u001b[0;34m[\u001b[0m\u001b[0mx\u001b[0m\u001b[0;34m]\u001b[0m\u001b[0;34m)\u001b[0m\u001b[0;34m\u001b[0m\u001b[0;34m\u001b[0m\u001b[0m\n\u001b[0m\u001b[1;32m     10\u001b[0m   \u001b[0;32mreturn\u001b[0m \u001b[0mtuple\u001b[0m\u001b[0;34m(\u001b[0m\u001b[0malist\u001b[0m\u001b[0;34m)\u001b[0m\u001b[0;34m\u001b[0m\u001b[0;34m\u001b[0m\u001b[0m\n\u001b[1;32m     11\u001b[0m \u001b[0mprint\u001b[0m\u001b[0;34m(\u001b[0m\u001b[0mrem_duplicate\u001b[0m\u001b[0;34m(\u001b[0m\u001b[0;34m(\u001b[0m\u001b[0;34m\"Hi\"\u001b[0m\u001b[0;34m,\u001b[0m \u001b[0;36m1\u001b[0m\u001b[0;34m,\u001b[0m \u001b[0;36m2\u001b[0m\u001b[0;34m,\u001b[0m \u001b[0;36m3\u001b[0m\u001b[0;34m,\u001b[0m \u001b[0;36m3\u001b[0m\u001b[0;34m,\u001b[0m \u001b[0;34m\"Hi\"\u001b[0m\u001b[0;34m,\u001b[0m\u001b[0;34m'a'\u001b[0m\u001b[0;34m,\u001b[0m \u001b[0;34m'a'\u001b[0m\u001b[0;34m,\u001b[0m \u001b[0;34m[\u001b[0m\u001b[0;36m1\u001b[0m\u001b[0;34m,\u001b[0m\u001b[0;36m2\u001b[0m\u001b[0;34m]\u001b[0m\u001b[0;34m)\u001b[0m\u001b[0;34m)\u001b[0m\u001b[0;34m)\u001b[0m\u001b[0;34m\u001b[0m\u001b[0;34m\u001b[0m\u001b[0m\n",
            "\u001b[0;31mTypeError\u001b[0m: tuple indices must be integers or slices, not str"
          ]
        }
      ]
    },
    {
      "cell_type": "markdown",
      "metadata": {
        "id": "yJxb2yrb5D8h"
      },
      "source": [
        "### Task 12\n",
        "Write a python function that takes a list as an argument. Your task is to create a new list where **each element can be present at max 2 times**. Inside the function, print the number of elements removed from the given list. Finally, return the new list and print the result.\n",
        "\n",
        "=====================================================\n",
        "\n",
        "**Hint:** Use list_name.count(element) to count the total number of times an element is in a list. list_name is your new list for this problem.\n",
        "\n",
        "=====================================================\n",
        "\n",
        "**Function Call:**\\\n",
        "function_name([1, 2, 3, 3, 3, 3, 4, 5, 8, 8])\\\n",
        "**Output:**\\\n",
        "Removed: 2\\\n",
        "[1, 2, 3, 3, 4, 5, 8, 8]\\\n",
        "================================\\\n",
        "**Function Call:**\\\n",
        "function_name([10, 10, 15, 15, 20])\\\n",
        "**Output:**\\\n",
        "Removed: 0\\\n",
        "[10, 10, 15, 15, 20]"
      ]
    },
    {
      "cell_type": "code",
      "metadata": {
        "id": "URBhYdgt5D8h",
        "colab": {
          "base_uri": "https://localhost:8080/"
        },
        "outputId": "a1c1441f-0444-416c-c7d0-ad6254706c9d"
      },
      "source": [
        "def function_name(user_input):\n",
        "  lst=[]\n",
        "  for x in user_input:\n",
        "    if user_input.count(x)>=3:\n",
        "      user_input.remove(x)\n",
        "      lst.append(x)\n",
        "\n",
        "  print('removed: ',len(lst))\n",
        "  return (user_input)\n",
        "print(function_name([1, 2, 3, 3, 3, 3, 4, 5, 8, 8]))\n",
        "\n"
      ],
      "execution_count": null,
      "outputs": [
        {
          "output_type": "stream",
          "text": [
            "removed:  2\n",
            "[1, 2, 3, 3, 4, 5, 8, 8]\n"
          ],
          "name": "stdout"
        }
      ]
    },
    {
      "cell_type": "markdown",
      "metadata": {
        "id": "vqET24dk5D8u"
      },
      "source": [
        "### Task 13\n",
        "Write a python function that will perform the basic calculation (addition, subtraction, multiplication and division) based on 3 arguments. They are:\n",
        "- Operator ('+', '-', '/', '*')\n",
        "- First Operand (any number)\n",
        "- Second Operand (any number)\n",
        "\n",
        "Your first task is to take these arguments as user input and pass the values to the function parameters.\n",
        "\n",
        "Your second task is to write a function and performs the calculation based on the given operator. Then, finally return the result in the function call and print the result.\n",
        "\n",
        "=====================================================\n",
        "\n",
        "**Input:**\\\n",
        "\"+\"\\\n",
        "10\\\n",
        "20\\\n",
        "**Function Call:**\\\n",
        "function_name(\"+\", 10, 20)\\\n",
        "**Output:**\\\n",
        "30.0\n",
        "\n",
        "================================\n",
        "\n",
        "**Input:**\\\n",
        "\"*\"\\\n",
        "5.5\\\n",
        "2.5\\\n",
        "**Function Call:**\\\n",
        "function_name(\"*\", 5.5, 2.5)\\\n",
        "**Output:**\\\n",
        "13.75\n"
      ]
    },
    {
      "cell_type": "code",
      "metadata": {
        "id": "sh7YQRv_5D8v",
        "colab": {
          "base_uri": "https://localhost:8080/"
        },
        "outputId": "990a53ea-9374-4b0a-beaa-7b5d2314b15a"
      },
      "source": [
        "def function_name(operator,num1,num2):\n",
        "    ans=0\n",
        "    if operator==\"+\":\n",
        "        ans=num1+num2\n",
        "    if operator=='-':\n",
        "        ans=num1-num2\n",
        "    if operator=='*':\n",
        "        ans=num1*num2\n",
        "    if operator=='/':\n",
        "        ans=num1/num2\n",
        "    return float(ans)\n",
        "print(function_name('+',10,20))    "
      ],
      "execution_count": null,
      "outputs": [
        {
          "output_type": "stream",
          "text": [
            "30.0\n"
          ],
          "name": "stdout"
        }
      ]
    },
    {
      "cell_type": "markdown",
      "metadata": {
        "id": "KGitjtfO5D83"
      },
      "source": [
        "### Task 14\n",
        "Write a function which will take 2 arguments. They are:\n",
        "- Sentence \n",
        "- position \n",
        "\n",
        "Your first task is to take these arguments as user input and pass these values to the function parameters.\n",
        "\n",
        "Your second task is to implement the function and remove the characters at the index number which is divisible by the position (Avoid the index number 0 as it will always be divisible by the position, so no need to remove the index 0 character). \n",
        "Finally, add the removed characters at the end of the new string.\n",
        "\n",
        "Return the value and then finally, print the new string at the function call.\n",
        "\n",
        "=====================================================\n",
        "\n",
        "**Input:**\\\n",
        "\"I love programming.\"\\\n",
        "3\\\n",
        "**Function call:**\\\n",
        "function_name(\"I love programming.\", 3)\\\n",
        "**Output:**\\\n",
        "I lveprgrmmngo oai.\n",
        "\n",
        "==============================================\n",
        "\n",
        "**Input:**\\\n",
        "\"Python is easy to learn. I love python.\"\\\n",
        "6\\\n",
        "**Function call:**\\\n",
        "function_name(\"Python is easy to learn. I love python.\", 6)\\\n",
        "**Output:**\\\n",
        "Pythonis eay to earn.I lov pythn. sl eo\n"
      ]
    },
    {
      "cell_type": "code",
      "metadata": {
        "id": "1Op6YcHY5D84",
        "colab": {
          "base_uri": "https://localhost:8080/"
        },
        "outputId": "7f00af22-2b1a-4fad-ba17-1ecb0ee68e8c"
      },
      "source": [
        "def function_name(sentence,position):\n",
        "  removed_char=''\n",
        "  remaining_char=''\n",
        "  for x in range(len(sentence)):\n",
        "    if x%position==0 and x!=0:\n",
        "      removed_char= removed_char+sentence[x]\n",
        "    else:\n",
        "      remaining_char= remaining_char+sentence[x]\n",
        "      ans=remaining_char+removed_char\n",
        "  return ans\n",
        "print(function_name('I love programming.', 3))\n",
        "\n"
      ],
      "execution_count": null,
      "outputs": [
        {
          "output_type": "stream",
          "text": [
            "I lveprgrmmngo oai\n"
          ],
          "name": "stdout"
        }
      ]
    },
    {
      "cell_type": "markdown",
      "metadata": {
        "id": "5Gq0ZAzQ5D8-"
      },
      "source": [
        "### Task 15\n",
        "You have been hired as an app developer for the company. The company plans to make an app for a grocery store where the user can order groceries and see the total amount to be paid in the cart section. \n",
        "\n",
        "To build this feature, you have to write a function that takes 2 arguments. They are:\n",
        "- order_items (must be a list)\n",
        "- location (default value should be set to \"Dhanmondi\")\n",
        "\n",
        "Your first task is to take a list of items from the user. Pass the list into the function parameter along with the optional location (Use default argument technique). (Also, no need to take location as input, pass this any value you want.) \n",
        "\n",
        "Your second task is to implement the function. In the function, create a dictionary for the items shown in the table. Calculate the total price of the items passed as a list to the function. Additionally, add a delivery fee of 30 taka if the location is Dhanmondi. Otherwise, add a delivery fee of 70 taka. Finally, return the value and print it.\n",
        "\n",
        "| Item | Price(Tk) |\n",
        "| --- | --- |\n",
        "| Rice | 105 |\n",
        "| Potato | 20 |\n",
        "| Chicken | 250 |\n",
        "| Beef | 510 |\n",
        "| Oil | 85 |\n",
        "\n",
        "=====================================================\n",
        "\n",
        "**Hint:** The keys are the items and values are the corresponding price. Iterate the items in the list and check if the items in the list are available in the dictionary keys or not. If it is available, add the price.\n",
        "\n",
        "=====================================================\n",
        "\n",
        "**Example:**\\\n",
        "function_name([\"Rice\", \"Beef\", \"Rice\"], \"Mohakhali\")\n",
        "\n",
        "total = 105 + 510 + 105 = 720 (Take the price of each item and add them.)\\\n",
        "total = 720 + 70 = 790 (Finally, add the delivery fee based on the location.)\n",
        "\n",
        "**Input:**\\\n",
        "[\"Rice\", \"Beef\", \"Rice\"]\\\n",
        "**Function Call:**\\\n",
        "function_name([\"Rice\", \"Beef\", \"Rice\"], \"Mohakhali\")\\\n",
        "**Output:**\\\n",
        "790\n",
        "\n",
        "==============================================\n",
        "\n",
        "**Example:**\n",
        "\n",
        "function_name([\"Rice\", \"Beef\", \"Rice\"])\n",
        "\n",
        "total = 105 + 510 + 105 = 720 (Take the price of each item and add them.)\\\n",
        "total = 720 + 30 = 750 (Since no location is passed in the parameter, it will use the default location-\"Dhanmondi\". For dhanmondi, delivery fee of 30 taka)\n",
        "\n",
        "**Input:**\\\n",
        "[\"Rice\", \"Beef\", \"Rice\"]\\\n",
        "**Function Call:**\\\n",
        "function_name([\"Rice\", \"Beef\", \"Rice\"])\\\n",
        "**Output:**\\\n",
        "750"
      ]
    },
    {
      "cell_type": "code",
      "metadata": {
        "id": "KqbU53QPblRv",
        "colab": {
          "base_uri": "https://localhost:8080/"
        },
        "outputId": "2c315603-2da2-4738-8ccd-e7d188d6595a"
      },
      "source": [
        "def function_name(order_items,location):\n",
        "  item_dict={'Rice':105,'Potato':20,'Chicken':250,'Beef':510,'oil':85}\n",
        "  total=0\n",
        "  for key,values in item_dict.items():\n",
        "    for x in order_items:\n",
        "      if x in key:\n",
        "        total=total +values\n",
        "  if location!='dhanmondi':\n",
        "    total=total+30\n",
        "    return total\n",
        "  else:\n",
        "    total=total+70\n",
        "    return total\n",
        "item_num=int(input('please enter the number of item bought: '))\n",
        "lst=[]\n",
        "for groceries in range(item_num):\n",
        "  groceries=input('please enter the groceries item bought: ')\n",
        "  lst.append(groceries)\n",
        "print(function_name((lst),'mohakhali'))\n"
      ],
      "execution_count": 31,
      "outputs": [
        {
          "output_type": "stream",
          "text": [
            "please enter the number of item bought: 3\n",
            "please enter the groceries item bought: Rice\n",
            "please enter the groceries item bought: Beef\n",
            "please enter the groceries item bought: Rice\n",
            "750\n"
          ],
          "name": "stdout"
        }
      ]
    },
    {
      "cell_type": "markdown",
      "metadata": {
        "id": "sWkvpVVmbT5n"
      },
      "source": [
        "## Optional Tasks (16 -20) [Ungraded]"
      ]
    },
    {
      "cell_type": "markdown",
      "metadata": {
        "id": "LIi7SUJLZ4gA"
      },
      "source": [
        "### Task 16\n",
        "Write a function called **splitting_money** that takes an “amount” of money as a argument.\n",
        "\n",
        "Your first task is to take the “amount” of money as user input and pass the value to the function paramater.\n",
        " \n",
        "Your second task is to implement the function and calculate how that money can be split into 500, 100, 50, 20, 10, 5, 2, and 1 taka notes.\n",
        "\n",
        "Then print the returned value in the function call.\n",
        "\n",
        "=====================================================\n",
        "\n",
        "\n",
        "**Hints:** \\\n",
        "This task’s calculation is similar to Assignment-1’s seconds to hours, minutes conversion. To return the result containing multiple strings, you need to store it in a variable and return it at the end of the function.\n",
        "\n",
        "=====================================================\n",
        "\n",
        "\n",
        "**Example1:** \\\n",
        "If the money is 1234, then the function should return \n",
        "\n",
        "\"500 Taka: 2 note(s) \\\n",
        "100 Taka: 2 note(s) \\\n",
        "20 Taka: 1 note(s) \\\n",
        "10 Taka: 1 note(s) \\\n",
        "2 Taka: 2 note(s)\"\n",
        "\n",
        "=====================================================\n",
        "\n",
        "**Example2:** \\\n",
        "If the money is 151, then the function should return\n",
        "\n",
        "\"100 Taka: 1 note(s)\\\n",
        "50 Taka: 1 note(s)\\\n",
        "1 Taka: 1 note(s)\"\n",
        "\n",
        "\n"
      ]
    },
    {
      "cell_type": "code",
      "metadata": {
        "id": "XI1uLQ5rb2oH"
      },
      "source": [
        ""
      ],
      "execution_count": null,
      "outputs": []
    },
    {
      "cell_type": "markdown",
      "metadata": {
        "id": "VpnhnPPcab5J"
      },
      "source": [
        "### Task 17\n",
        "Write a function called **remove_odd** that takes a list of numbers that have both even and odd numbers mixed. \\\n",
        "Your function should remove all the odd numbers and **return a compact list** which only contains the even numbers. \n",
        "\n",
        "=====================================================\n",
        "\n",
        "**Example1:** \\\n",
        "**Function Call:**\\\n",
        "remove_odd ([21, 33, 44, 66, 11, 1, 88, 45, 10, 9])\\\n",
        "**Output:**\\\n",
        "[44, 66, 88, 10]\n",
        "\n",
        "====================================\n",
        "\n",
        "**Example2:** \\\n",
        "**Function Call:**\\\n",
        "remove_odd ([11,2,3,4,5,2,0,5,3])\\\n",
        "**Output:**\\\n",
        "[2, 4, 2, 0]\n",
        "\n"
      ]
    },
    {
      "cell_type": "code",
      "metadata": {
        "id": "y4dR2jV6bAYw",
        "colab": {
          "base_uri": "https://localhost:8080/",
          "height": 486
        },
        "outputId": "2b0a21e2-44bc-4e0a-bb29-7a8ebd726cf3"
      },
      "source": [
        "def remove_odd(num):\n",
        "  \n",
        "  lst=[]\n",
        "  for x in num:\n",
        "      x=0\n",
        "      if num[x]%2==0:\n",
        "          lst.append(num[x])\n",
        "          x=x+1\n",
        "  return lst\n",
        "quantity=int(input('please enter a quantity: '))\n",
        "for num in range(quantity):\n",
        "  num=input('please enter a number: ')\n",
        "print(remove_odd(num))"
      ],
      "execution_count": 23,
      "outputs": [
        {
          "output_type": "stream",
          "text": [
            "please enter a quantity: 9\n",
            "please enter a number: 11\n",
            "please enter a number: 2\n",
            "please enter a number: 3\n",
            "please enter a number: 4\n",
            "please enter a number: 5\n",
            "please enter a number: 2\n",
            "please enter a number: 0\n",
            "please enter a number: 5\n",
            "please enter a number: 3\n"
          ],
          "name": "stdout"
        },
        {
          "output_type": "error",
          "ename": "TypeError",
          "evalue": "ignored",
          "traceback": [
            "\u001b[0;31m---------------------------------------------------------------------------\u001b[0m",
            "\u001b[0;31mTypeError\u001b[0m                                 Traceback (most recent call last)",
            "\u001b[0;32m<ipython-input-23-072fb8409f31>\u001b[0m in \u001b[0;36m<module>\u001b[0;34m()\u001b[0m\n\u001b[1;32m     11\u001b[0m \u001b[0;32mfor\u001b[0m \u001b[0mnum\u001b[0m \u001b[0;32min\u001b[0m \u001b[0mrange\u001b[0m\u001b[0;34m(\u001b[0m\u001b[0mquantity\u001b[0m\u001b[0;34m)\u001b[0m\u001b[0;34m:\u001b[0m\u001b[0;34m\u001b[0m\u001b[0;34m\u001b[0m\u001b[0m\n\u001b[1;32m     12\u001b[0m   \u001b[0mnum\u001b[0m\u001b[0;34m=\u001b[0m\u001b[0minput\u001b[0m\u001b[0;34m(\u001b[0m\u001b[0;34m'please enter a number: '\u001b[0m\u001b[0;34m)\u001b[0m\u001b[0;34m\u001b[0m\u001b[0;34m\u001b[0m\u001b[0m\n\u001b[0;32m---> 13\u001b[0;31m \u001b[0mprint\u001b[0m\u001b[0;34m(\u001b[0m\u001b[0mremove_odd\u001b[0m\u001b[0;34m(\u001b[0m\u001b[0mnum\u001b[0m\u001b[0;34m)\u001b[0m\u001b[0;34m)\u001b[0m\u001b[0;34m\u001b[0m\u001b[0;34m\u001b[0m\u001b[0m\n\u001b[0m",
            "\u001b[0;32m<ipython-input-23-072fb8409f31>\u001b[0m in \u001b[0;36mremove_odd\u001b[0;34m(num)\u001b[0m\n\u001b[1;32m      4\u001b[0m   \u001b[0;32mfor\u001b[0m \u001b[0mx\u001b[0m \u001b[0;32min\u001b[0m \u001b[0mnum\u001b[0m\u001b[0;34m:\u001b[0m\u001b[0;34m\u001b[0m\u001b[0;34m\u001b[0m\u001b[0m\n\u001b[1;32m      5\u001b[0m       \u001b[0mx\u001b[0m\u001b[0;34m=\u001b[0m\u001b[0;36m0\u001b[0m\u001b[0;34m\u001b[0m\u001b[0;34m\u001b[0m\u001b[0m\n\u001b[0;32m----> 6\u001b[0;31m       \u001b[0;32mif\u001b[0m \u001b[0mnum\u001b[0m\u001b[0;34m[\u001b[0m\u001b[0mx\u001b[0m\u001b[0;34m]\u001b[0m\u001b[0;34m%\u001b[0m\u001b[0;36m2\u001b[0m\u001b[0;34m==\u001b[0m\u001b[0;36m0\u001b[0m\u001b[0;34m:\u001b[0m\u001b[0;34m\u001b[0m\u001b[0;34m\u001b[0m\u001b[0m\n\u001b[0m\u001b[1;32m      7\u001b[0m           \u001b[0mlst\u001b[0m\u001b[0;34m.\u001b[0m\u001b[0mappend\u001b[0m\u001b[0;34m(\u001b[0m\u001b[0mnum\u001b[0m\u001b[0;34m[\u001b[0m\u001b[0mx\u001b[0m\u001b[0;34m]\u001b[0m\u001b[0;34m)\u001b[0m\u001b[0;34m\u001b[0m\u001b[0;34m\u001b[0m\u001b[0m\n\u001b[1;32m      8\u001b[0m           \u001b[0mx\u001b[0m\u001b[0;34m=\u001b[0m\u001b[0mx\u001b[0m\u001b[0;34m+\u001b[0m\u001b[0;36m1\u001b[0m\u001b[0;34m\u001b[0m\u001b[0;34m\u001b[0m\u001b[0m\n",
            "\u001b[0;31mTypeError\u001b[0m: not all arguments converted during string formatting"
          ]
        }
      ]
    },
    {
      "cell_type": "markdown",
      "metadata": {
        "id": "8qAKekKWbBnP"
      },
      "source": [
        "### Task 18\n",
        "Write a function which will take 4 arguments. They are:\n",
        "- starting value(inclusive)\n",
        "- ending value(exclusive)\n",
        "- first divisor\n",
        "- second divisor\n",
        "\n",
        "Your first task is to take these arguments as user input and pass these values to the function.\n",
        "\n",
        "Your second task is to implement the function and find all the numbers that are divisible by the <u> **first divisor or second divisor but not both**</u> from the starting value(inclusive) and ending value(exclusive). Add all the numbers that are divisible and finally return this value. Print the returned value in the function call.\n",
        "\n",
        "=====================================================\n",
        "\n",
        "**Input:**\\\n",
        "10\\\n",
        "40\\\n",
        "4\\\n",
        "7\\\n",
        "**Function Call:**\\\n",
        "function_name(10, 40, 4, 7)\\\n",
        "**Output:**\\\n",
        "210\\\n",
        "================================\\\n",
        "**Input:**\\\n",
        "5\\\n",
        "100\\\n",
        "3\\\n",
        "4\\\n",
        "**Function Call:**\\\n",
        "function_name(5, 100, 3, 4)\\\n",
        "**Output:**\\\n",
        "2012\n",
        "\n",
        "\n"
      ]
    },
    {
      "cell_type": "code",
      "metadata": {
        "id": "-vQ3gIWm5D8-",
        "colab": {
          "base_uri": "https://localhost:8080/"
        },
        "outputId": "0074a679-17e8-49a5-803a-c32a8c77f523"
      },
      "source": [
        "def function_name(st,en,d1,d2):\n",
        "  lst=[]\n",
        "  sum=0\n",
        "  for x in range(st,en+1):\n",
        "    if (x%d1==0 or x%d2==0) and not (x%d1==0 and x%d2==0):\n",
        "        lst.append(x)\n",
        "  for count in range(len(lst)):\n",
        "    sum=sum+lst[count]\n",
        "  return lst,sum\n",
        "start = int(input('please enter starting value: '))\n",
        "end = int(input('please enter an ending value: '))\n",
        "div1 = int(input('please enter div1: '))\n",
        "div2 = int(input('please enter div2: '))\n",
        "print(function_name(start,end,div1,div2))\n",
        "\n"
      ],
      "execution_count": null,
      "outputs": [
        {
          "output_type": "stream",
          "text": [
            "please enter starting value: 5\n",
            "please enter an ending value: 100\n",
            "please enter div1: 3\n",
            "please enter div2: 4\n",
            "([6, 8, 9, 15, 16, 18, 20, 21, 27, 28, 30, 32, 33, 39, 40, 42, 44, 45, 51, 52, 54, 56, 57, 63, 64, 66, 68, 69, 75, 76, 78, 80, 81, 87, 88, 90, 92, 93, 99, 100], 2112)\n"
          ],
          "name": "stdout"
        }
      ]
    },
    {
      "cell_type": "markdown",
      "metadata": {
        "id": "0poe59Q-aAtP"
      },
      "source": [
        "### Task 19\n",
        "Write a python function which will take a string as an argument. \n",
        "\n",
        "Your first task is to take a string as user input and pass the value to the function.\n",
        "\n",
        "Your second task is to implement a function which will check whether all the alphabets from a to j (convert all the alphabets to lowercase) has appeared at least once in the given string or not. \n",
        "- If all of these alphabets (a to j) appear at least once, then the result will be 5. \n",
        "- If any one of the alphabets (a to j) is not in the given string, then the result will be 6.\n",
        "\n",
        "Return this result and print the statement, \"Chelsea is the best club in England\" that many times.\n",
        "\n",
        "=====================================================\n",
        "\n",
        "**Example01:**\n",
        "\"A black jackal is hunting a full grown deer\" \n",
        "\n",
        "Here all the alphabets from A to J are present at least once. So, the function will return 5 and will print the statement 5 times.\n",
        "\n",
        "**Input:**\\\n",
        "\"A black jackal is hunting a full grown deer\"\\\n",
        "**Function Call:**\\\n",
        "function_name(\"A black jackal is hunting a full grown deer\")\\\n",
        "**Output:**\\\n",
        "Chelsea is the best club in England\\\n",
        "Chelsea is the best club in England\\\n",
        "Chelsea is the best club in England\\\n",
        "Chelsea is the best club in England\\\n",
        "Chelsea is the best club in England\n",
        "\n",
        "==============================================\n",
        "\n",
        "**Example02:**\n",
        "\n",
        "**Input:**\\\n",
        "\"ABBCDEFEFGHI\"\\\n",
        "**Function Call:**\\\n",
        "function_name(\"ABBCDEFEFGHI\")\\\n",
        "**Output:**\\\n",
        "Chelsea is the best club in England\\\n",
        "Chelsea is the best club in England\\\n",
        "Chelsea is the best club in England\\\n",
        "Chelsea is the best club in England\\\n",
        "Chelsea is the best club in England\\\n",
        "Chelsea is the best club in England\n"
      ]
    },
    {
      "cell_type": "code",
      "metadata": {
        "id": "uQRx3Kclb57h"
      },
      "source": [
        "#todo"
      ],
      "execution_count": null,
      "outputs": []
    },
    {
      "cell_type": "markdown",
      "metadata": {
        "id": "XGLNNSH25D9B"
      },
      "source": [
        "### Task 20\n",
        "You have been hired by the Abahani football club to write a function that will calculate the total bonus on the yearly earnings of each player for the total goals they have scored.\n",
        "\n",
        "Since the number of players will vary, you decide to use the \"*args\" technique that you learned in your CSE110 class. (No need to take any input from the user. Call the functions and print the values inside the function.) \n",
        "\n",
        "For each player: pass the name, yearly earning, the total goal scored this season, bonus percent per goal. \n",
        "\n",
        "Additionally, \n",
        " * If the goal scored is above 30, add an extra bonus of 10000 taka. \n",
        " * If it is between 20 and 30 inclusive, add an extra 5000 taka.\n",
        "\n",
        "=====================================================\n",
        "\n",
        "**Example:**\\\n",
        "cal_bonus(\"Neymar\", 1200000, 35, 5)\n",
        "\n",
        "bonus = 35 * (5 / 100 * 1200000) + 10000 = 2110000\n",
        "\n",
        "**Function call:**\\\n",
        "cal_bonus(\"Neymar\", 1200000, 35, 5)\\\n",
        "**Output:**\\\n",
        "Neymar earned a bonus of  2110000 Taka for 35 goals.\n",
        "\n",
        "=====================================================\n",
        "\n",
        "**Function call:**\\\n",
        "function_name(\"Neymar\", 1200000, 30, 10, \"Jamal\", 700000, 19, 5)\\\n",
        "**Output:**\\\n",
        "Neymar earned a bonus of 3605000 Taka for 30 goals.\\\n",
        "Jamal earned a bonus of 665000 Taka for 19 goals.\n",
        "\n",
        "\n",
        "\n"
      ]
    },
    {
      "cell_type": "code",
      "metadata": {
        "id": "IIz3msUa5D9B"
      },
      "source": [
        "# to do"
      ],
      "execution_count": null,
      "outputs": []
    }
  ]
}